{
  "cells": [
    {
      "cell_type": "code",
      "source": [
        "import json\n",
        "import csv\n",
        "import re\n",
        "from collections import defaultdict\n",
        "import pandas as pd\n",
        "from transformers import AutoTokenizer, AutoModelForSequenceClassification\n",
        "from scipy.special import softmax\n",
        "import matplotlib.pyplot as plt"
      ],
      "metadata": {
        "id": "bmUKksWz1V1t"
      },
      "execution_count": null,
      "outputs": []
    },
    {
      "cell_type": "markdown",
      "metadata": {
        "id": "Fsh7yVPeI7UF"
      },
      "source": [
        "CLEANING THE TWEETS"
      ]
    },
    {
      "cell_type": "code",
      "execution_count": 12,
      "metadata": {
        "colab": {
          "base_uri": "https://localhost:8080/"
        },
        "id": "-2888ETuHxMT",
        "outputId": "517e6597-e85d-4c14-bfea-a8ec3ddf1852"
      },
      "outputs": [
        {
          "output_type": "stream",
          "name": "stdout",
          "text": [
            "Sorted CSV file created at: /content/sorted_frenchtweets_with_cleaned_text.csv\n",
            "Total number of tweets processed: 12073\n"
          ]
        }
      ],
      "source": [
        "\n",
        "\n",
        "input_file_path = '/content/part-00000'\n",
        "cleaned_output_file_path = '/content/sorted_frenchtweets_with_cleaned_text.csv'\n",
        "\n",
        "\n",
        "def clean_tweet(text):\n",
        "    # Remove URLs\n",
        "    text = re.sub(r\"http\\S+|www\\S+|https\\S+\", '', text, flags=re.MULTILINE)\n",
        "    # Remove retweet indicator\n",
        "    text = re.sub(r\"RT\\s+\", '', text)\n",
        "    # Remove mentions (@usernames)\n",
        "    text = re.sub(r\"@\\w+\", '', text)\n",
        "    # Remove hashtags\n",
        "    text = re.sub(r\"#\\w+\", '', text)\n",
        "    # Remove colons\n",
        "    text = text.replace(\":\", '')\n",
        "    # Remove extra whitespace\n",
        "    text = re.sub(r\"\\s+\", ' ', text).strip()\n",
        "    return text\n",
        "\n",
        "\n",
        "# Dictionary to store tweets and their related retweets, quotes, and replies\n",
        "tweet_groups = defaultdict(list)\n",
        "\n",
        "\n",
        "total_tweets = 0\n",
        "\n",
        "with open(input_file_path, 'r') as file:\n",
        "    for line in file:\n",
        "        try:\n",
        "            tweet = json.loads(line)\n",
        "            tweet_id = tweet.get(\"id_str\", None)\n",
        "            user_id = tweet.get(\"user\", {}).get(\"id_str\", None)\n",
        "            tweet_text = tweet.get(\"text\", None)\n",
        "\n",
        "            # Determine the type of tweet\n",
        "            tweet_type = \"tweet\"\n",
        "            parent_tweet_id = tweet_id\n",
        "\n",
        "            if \"retweeted_status\" in tweet:\n",
        "                tweet_type = \"retweet\"\n",
        "                parent_tweet_id = tweet.get(\"retweeted_status\", {}).get(\"id_str\", tweet_id)\n",
        "            elif \"quoted_status\" in tweet:\n",
        "                tweet_type = \"quote\"\n",
        "                parent_tweet_id = tweet.get(\"quoted_status\", {}).get(\"id_str\", tweet_id)\n",
        "            elif tweet.get(\"in_reply_to_status_id_str\"):\n",
        "                tweet_type = \"reply\"\n",
        "                parent_tweet_id = tweet.get(\"in_reply_to_status_id_str\")\n",
        "\n",
        "            if tweet_id and user_id and tweet_text:\n",
        "                total_tweets += 1\n",
        "                cleaned_text = clean_tweet(tweet_text)\n",
        "                tweet_entry = {\n",
        "                    \"tweet_id\": tweet_id,\n",
        "                    \"user_id\": user_id,\n",
        "                    \"tweet_type\": tweet_type,\n",
        "                    \"cleaned_tweet_text\": cleaned_text,\n",
        "                }\n",
        "\n",
        "                # Group tweets by their parent tweet ID\n",
        "                tweet_groups[parent_tweet_id].append(tweet_entry)\n",
        "\n",
        "        except json.JSONDecodeError:\n",
        "            continue\n",
        "\n",
        "\n",
        "sorted_tweets = []\n",
        "for parent_id, group in tweet_groups.items():\n",
        "\n",
        "    group.sort(key=lambda x: x['tweet_type'] != 'tweet')\n",
        "    sorted_tweets.extend(group)\n",
        "\n",
        "\n",
        "with open(cleaned_output_file_path, 'w', newline='', encoding='utf-8') as csvfile:\n",
        "    fieldnames = [\"tweet_id\", \"user_id\", \"tweet_type\", \"cleaned_tweet_text\"]\n",
        "    writer = csv.DictWriter(csvfile, fieldnames=fieldnames)\n",
        "    writer.writeheader()\n",
        "    for tweet in sorted_tweets:\n",
        "        writer.writerow(tweet)\n",
        "\n",
        "print(f\"Sorted CSV file created at: {cleaned_output_file_path}\")\n",
        "print(f\"Total number of tweets processed: {total_tweets}\")\n",
        "\n",
        "\n"
      ]
    },
    {
      "cell_type": "markdown",
      "metadata": {
        "id": "bWNd3pXgX5kc"
      },
      "source": [
        "CODE FOR FRENCH LANGUAGE"
      ]
    },
    {
      "cell_type": "code",
      "source": [
        "import pandas as pd\n",
        "from transformers import AutoTokenizer, AutoModelForSequenceClassification\n",
        "from scipy.special import softmax\n",
        "\n",
        "# Load model and tokenizer\n",
        "model_name = \"nlptown/bert-base-multilingual-uncased-sentiment\"\n",
        "model = AutoModelForSequenceClassification.from_pretrained(model_name)\n",
        "tokenizer = AutoTokenizer.from_pretrained(model_name)\n",
        "\n",
        "# Labels for sentiment analysis\n",
        "labels = [\"1 star\", \"2 stars\", \"3 stars\", \"4 stars\", \"5 stars\"]\n",
        "star_to_sentiment = {\n",
        "    \"1 star\": \"Very Negative\",\n",
        "    \"2 stars\": \"Negative\",\n",
        "    \"3 stars\": \"Neutral\",\n",
        "    \"4 stars\": \"Positive\",\n",
        "    \"5 stars\": \"Very Positive\",\n",
        "}\n",
        "\n",
        "# Function to analyze sentiment\n",
        "def analyze_sentiment(text):\n",
        "    \"\"\"\n",
        "    Analyzes sentiment of the given text using the BERT model.\n",
        "    \"\"\"\n",
        "    if not isinstance(text, str) or not text.strip():\n",
        "        return {label: 0 for label in labels}  # Return zero scores for invalid input\n",
        "    encoded_tweet = tokenizer(text, return_tensors=\"pt\", truncation=True, max_length=512)\n",
        "    output = model(**encoded_tweet)\n",
        "    scores = output[0][0].detach().numpy()\n",
        "    scores = softmax(scores)\n",
        "    return {labels[i]: scores[i] for i in range(len(scores))}\n",
        "\n",
        "# Input and output file paths\n",
        "input_file_path = \"/content/sorted_frenchtweets_with_cleaned_text.csv\"\n",
        "output_file_path = \"/content/tweets_with_sentiments.csv\"\n",
        "\n",
        "# Load dataset\n",
        "df = pd.read_csv(input_file_path)\n",
        "\n",
        "# Ensure all text data is a string\n",
        "df[\"cleaned_tweet_text\"] = df[\"cleaned_tweet_text\"].fillna(\"\").astype(str)\n",
        "\n",
        "# Perform sentiment analysis\n",
        "sentiments = []\n",
        "for tweet in df[\"cleaned_tweet_text\"]:\n",
        "    scores = analyze_sentiment(tweet)\n",
        "    label = max(scores, key=scores.get)  # Choose the label with the highest score\n",
        "    sentiments.append(star_to_sentiment[label])  # Map the label to a human-readable sentiment\n",
        "\n",
        "# Add results to the dataframe\n",
        "df[\"sentiment\"] = sentiments\n",
        "\n",
        "# Save the results to a CSV file\n",
        "df.to_csv(output_file_path, index=False)\n",
        "\n",
        "print(f\"Sentiment analysis completed for the entire file. Results saved to: {output_file_path}\")\n"
      ],
      "metadata": {
        "colab": {
          "base_uri": "https://localhost:8080/"
        },
        "id": "WwQVVS-z7i4d",
        "outputId": "cfb61022-cc57-43c5-f487-500186b9535f"
      },
      "execution_count": 14,
      "outputs": [
        {
          "output_type": "stream",
          "name": "stdout",
          "text": [
            "Sentiment analysis completed for the entire file. Results saved to: /content/tweets_with_sentiments.csv\n"
          ]
        }
      ]
    },
    {
      "cell_type": "code",
      "source": [
        "\n",
        "\n",
        "output_file_path = \"/content/tweets_with_sentiments.csv\"\n",
        "df = pd.read_csv(output_file_path)\n",
        "\n",
        "\n",
        "if \"sentiment\" not in df.columns:\n",
        "    raise ValueError(\"The dataset must contain a 'sentiment' column.\")\n",
        "\n",
        "# Visualize the distribution of sentiments\n",
        "def plot_sentiment_distribution(df):\n",
        "    \"\"\"\n",
        "    Creates a bar chart showing the distribution of sentiment labels.\n",
        "    \"\"\"\n",
        "    sentiment_counts = df[\"sentiment\"].value_counts()\n",
        "    sentiment_counts.plot(kind=\"bar\", color=\"skyblue\", figsize=(8, 6))\n",
        "    plt.title(\"Sentiment Distribution\", fontsize=16)\n",
        "    plt.xlabel(\"Sentiment\", fontsize=12)\n",
        "    plt.ylabel(\"Tweet Count\", fontsize=12)\n",
        "    plt.xticks(rotation=45)\n",
        "    plt.grid(axis=\"y\", linestyle=\"--\", alpha=0.7)\n",
        "    plt.show()\n",
        "\n",
        "def plot_sentiment_confidence(df):\n",
        "    if \"confidence\" not in df.columns:\n",
        "        print(\"No 'confidence' column found. Skipping confidence visualization.\")\n",
        "        return\n",
        "\n",
        "    confidence_means = df.groupby(\"sentiment\")[\"confidence\"].mean()\n",
        "    confidence_means.plot(kind=\"bar\", color=\"lightgreen\", figsize=(8, 6))\n",
        "    plt.title(\"Average Confidence by Sentiment\", fontsize=16)\n",
        "    plt.xlabel(\"Sentiment\", fontsize=12)\n",
        "    plt.ylabel(\"Average Confidence Score\", fontsize=12)\n",
        "    plt.xticks(rotation=45)\n",
        "    plt.grid(axis=\"y\", linestyle=\"--\", alpha=0.7)\n",
        "    plt.show()\n",
        "\n",
        "\n",
        "plot_sentiment_distribution(df)\n",
        "plot_sentiment_confidence(df)\n"
      ],
      "metadata": {
        "colab": {
          "base_uri": "https://localhost:8080/",
          "height": 650
        },
        "id": "4OdYSp-WAMub",
        "outputId": "d99f74c0-272b-47be-fb42-164778a72e21"
      },
      "execution_count": 15,
      "outputs": [
        {
          "output_type": "display_data",
          "data": {
            "text/plain": [
              "<Figure size 800x600 with 1 Axes>"
            ],
            "image/png": "[encoded data removed]"
          },
          "metadata": {}
        },
        {
          "output_type": "stream",
          "name": "stdout",
          "text": [
            "No 'confidence' column found. Skipping confidence visualization.\n"
          ]
        }
      ]
    },
    {
      "cell_type": "code",
      "source": [
        "import pandas as pd\n",
        "\n",
        "\n",
        "file_path = '/content/tweets_with_sentiments.csv'\n",
        "df = pd.read_csv(file_path)\n",
        "\n",
        "# Total number of tweets\n",
        "total_tweets = df.shape[0]\n",
        "print(\"Total number of tweets:\", total_tweets)\n",
        "\n",
        "# Count of each sentiment\n",
        "if 'sentiment' in df.columns:\n",
        "    sentiment_counts = df['sentiment'].value_counts()\n",
        "    print(\"Count of each sentiment:\\n\", sentiment_counts)\n",
        "else:\n",
        "    print(\"The 'sentiment' column was not found in the dataset.\")"
      ],
      "metadata": {
        "colab": {
          "base_uri": "https://localhost:8080/"
        },
        "id": "eBww0kU0B8Bc",
        "outputId": "0ac0eab1-4508-4501-a802-980424e6e760"
      },
      "execution_count": 16,
      "outputs": [
        {
          "output_type": "stream",
          "name": "stdout",
          "text": [
            "Total number of tweets: 12073\n",
            "Count of each sentiment:\n",
            " sentiment\n",
            "Very Negative    4208\n",
            "Very Positive    4004\n",
            "Neutral          2133\n",
            "Negative          914\n",
            "Positive          814\n",
            "Name: count, dtype: int64\n"
          ]
        }
      ]
    },
    {
      "cell_type": "code",
      "source": [],
      "metadata": {
        "id": "kxvOhcY5B74R"
      },
      "execution_count": null,
      "outputs": []
    }
  ],
  "metadata": {
    "accelerator": "GPU",
    "colab": {
      "gpuType": "L4",
      "machine_shape": "hm",
      "provenance": []
    },
    "kernelspec": {
      "display_name": "Python 3",
      "name": "python3"
    },
    "language_info": {
      "name": "python"
    }
  },
  "nbformat": 4,
  "nbformat_minor": 0
}